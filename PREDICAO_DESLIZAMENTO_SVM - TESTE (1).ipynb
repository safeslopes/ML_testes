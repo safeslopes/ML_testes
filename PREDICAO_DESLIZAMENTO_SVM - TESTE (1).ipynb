{
 "cells": [
  {
   "cell_type": "markdown",
   "id": "f6f7a845",
   "metadata": {},
   "source": [
    "# 🧪 PREDIÇÃO DE DESLIZAMENTO USANDO SVM | TESTE"
   ]
  },
  {
   "cell_type": "markdown",
   "id": "e9c6058d",
   "metadata": {},
   "source": [
    "##  Criação do dataset"
   ]
  },
  {
   "cell_type": "code",
   "execution_count": 3,
   "id": "5da293b1",
   "metadata": {},
   "outputs": [],
   "source": [
    "# Importar bibliotecas\n",
    "\n",
    "import numpy as np\n",
    "import pandas as pd\n",
    "from sklearn.preprocessing import StandardScaler\n",
    "from sklearn.model_selection import train_test_split\n",
    "from sklearn import svm\n",
    "from sklearn.metrics import accuracy_score"
   ]
  },
  {
   "cell_type": "code",
   "execution_count": 37,
   "id": "087cb709",
   "metadata": {},
   "outputs": [
    {
     "name": "stdout",
     "output_type": "stream",
     "text": [
      "   indice_pluviometrico  umidade  temperatura  precipitacao  deslizamento\n",
      "0                   0.0        2           24             0             0\n",
      "1                  10.0       10           24             1             0\n",
      "2                  10.0       13           24             1             0\n",
      "3                   0.0       10           24             0             0\n",
      "4                  20.0       27           24             1             0\n"
     ]
    }
   ],
   "source": [
    "# Importar dataset\n",
    "\n",
    "deslizamentos_dataset = pd.read_excel(r\"C:\\Users\\Usuário\\Desktop\\deslizamento_teste.xlsx\")\n",
    "print(deslizamentos_dataset.head()) # mostra as primeiras 5 linhas"
   ]
  },
  {
   "cell_type": "code",
   "execution_count": 38,
   "id": "9da593ef",
   "metadata": {},
   "outputs": [
    {
     "data": {
      "text/plain": [
       "(22, 5)"
      ]
     },
     "execution_count": 38,
     "metadata": {},
     "output_type": "execute_result"
    }
   ],
   "source": [
    "# Verificar o total de linhas e colunas no dataset\n",
    "\n",
    "deslizamentos_dataset.shape"
   ]
  },
  {
   "cell_type": "code",
   "execution_count": 39,
   "id": "710e43bd",
   "metadata": {},
   "outputs": [
    {
     "data": {
      "text/html": [
       "<div>\n",
       "<style scoped>\n",
       "    .dataframe tbody tr th:only-of-type {\n",
       "        vertical-align: middle;\n",
       "    }\n",
       "\n",
       "    .dataframe tbody tr th {\n",
       "        vertical-align: top;\n",
       "    }\n",
       "\n",
       "    .dataframe thead th {\n",
       "        text-align: right;\n",
       "    }\n",
       "</style>\n",
       "<table border=\"1\" class=\"dataframe\">\n",
       "  <thead>\n",
       "    <tr style=\"text-align: right;\">\n",
       "      <th></th>\n",
       "      <th>indice_pluviometrico</th>\n",
       "      <th>umidade</th>\n",
       "      <th>temperatura</th>\n",
       "      <th>precipitacao</th>\n",
       "      <th>deslizamento</th>\n",
       "    </tr>\n",
       "  </thead>\n",
       "  <tbody>\n",
       "    <tr>\n",
       "      <th>count</th>\n",
       "      <td>22.000000</td>\n",
       "      <td>22.000000</td>\n",
       "      <td>22.000000</td>\n",
       "      <td>22.000000</td>\n",
       "      <td>22.000000</td>\n",
       "    </tr>\n",
       "    <tr>\n",
       "      <th>mean</th>\n",
       "      <td>23.578474</td>\n",
       "      <td>42.727273</td>\n",
       "      <td>24.272727</td>\n",
       "      <td>0.727273</td>\n",
       "      <td>0.136364</td>\n",
       "    </tr>\n",
       "    <tr>\n",
       "      <th>std</th>\n",
       "      <td>22.696368</td>\n",
       "      <td>28.848012</td>\n",
       "      <td>0.702500</td>\n",
       "      <td>0.455842</td>\n",
       "      <td>0.351250</td>\n",
       "    </tr>\n",
       "    <tr>\n",
       "      <th>min</th>\n",
       "      <td>0.000000</td>\n",
       "      <td>2.000000</td>\n",
       "      <td>23.000000</td>\n",
       "      <td>0.000000</td>\n",
       "      <td>0.000000</td>\n",
       "    </tr>\n",
       "    <tr>\n",
       "      <th>25%</th>\n",
       "      <td>2.673897</td>\n",
       "      <td>14.250000</td>\n",
       "      <td>24.000000</td>\n",
       "      <td>0.250000</td>\n",
       "      <td>0.000000</td>\n",
       "    </tr>\n",
       "    <tr>\n",
       "      <th>50%</th>\n",
       "      <td>17.549442</td>\n",
       "      <td>46.000000</td>\n",
       "      <td>24.000000</td>\n",
       "      <td>1.000000</td>\n",
       "      <td>0.000000</td>\n",
       "    </tr>\n",
       "    <tr>\n",
       "      <th>75%</th>\n",
       "      <td>41.054516</td>\n",
       "      <td>67.000000</td>\n",
       "      <td>25.000000</td>\n",
       "      <td>1.000000</td>\n",
       "      <td>0.000000</td>\n",
       "    </tr>\n",
       "    <tr>\n",
       "      <th>max</th>\n",
       "      <td>70.000000</td>\n",
       "      <td>89.000000</td>\n",
       "      <td>26.000000</td>\n",
       "      <td>1.000000</td>\n",
       "      <td>1.000000</td>\n",
       "    </tr>\n",
       "  </tbody>\n",
       "</table>\n",
       "</div>"
      ],
      "text/plain": [
       "       indice_pluviometrico    umidade  temperatura  precipitacao  \\\n",
       "count             22.000000  22.000000    22.000000     22.000000   \n",
       "mean              23.578474  42.727273    24.272727      0.727273   \n",
       "std               22.696368  28.848012     0.702500      0.455842   \n",
       "min                0.000000   2.000000    23.000000      0.000000   \n",
       "25%                2.673897  14.250000    24.000000      0.250000   \n",
       "50%               17.549442  46.000000    24.000000      1.000000   \n",
       "75%               41.054516  67.000000    25.000000      1.000000   \n",
       "max               70.000000  89.000000    26.000000      1.000000   \n",
       "\n",
       "       deslizamento  \n",
       "count     22.000000  \n",
       "mean       0.136364  \n",
       "std        0.351250  \n",
       "min        0.000000  \n",
       "25%        0.000000  \n",
       "50%        0.000000  \n",
       "75%        0.000000  \n",
       "max        1.000000  "
      ]
     },
     "execution_count": 39,
     "metadata": {},
     "output_type": "execute_result"
    }
   ],
   "source": [
    "# Descrever dados estatísticos do dataset\n",
    "\n",
    "deslizamentos_dataset.describe()"
   ]
  },
  {
   "cell_type": "code",
   "execution_count": 40,
   "id": "65ae859a",
   "metadata": {},
   "outputs": [
    {
     "data": {
      "text/plain": [
       "0    19\n",
       "1     3\n",
       "Name: deslizamento, dtype: int64"
      ]
     },
     "execution_count": 40,
     "metadata": {},
     "output_type": "execute_result"
    }
   ],
   "source": [
    "# Verificar o número de ocorrências de deslizamento e não deslizamento (sim e não)\n",
    "\n",
    "deslizamentos_dataset['deslizamento'].value_counts()"
   ]
  },
  {
   "cell_type": "code",
   "execution_count": 41,
   "id": "82130edd",
   "metadata": {},
   "outputs": [],
   "source": [
    "X = deslizamentos_dataset.drop(columns='deslizamento', axis=1)\n",
    "Y = deslizamentos_dataset['deslizamento']"
   ]
  },
  {
   "cell_type": "code",
   "execution_count": 42,
   "id": "6e870ef8",
   "metadata": {},
   "outputs": [
    {
     "name": "stdout",
     "output_type": "stream",
     "text": [
      "    indice_pluviometrico  umidade  temperatura  precipitacao\n",
      "0               0.000000        2           24             0\n",
      "1              10.000000       10           24             1\n",
      "2              10.000000       13           24             1\n",
      "3               0.000000       10           24             0\n",
      "4              20.000000       27           24             1\n",
      "5              40.000000       39           24             1\n",
      "6              50.000000       67           24             1\n",
      "7              54.000000       79           24             1\n",
      "8              70.000000       89           24             1\n",
      "9               0.000000        5           25             0\n",
      "10             42.763524       46           25             1\n",
      "11             20.902711       65           25             1\n",
      "12              0.000000       63           25             0\n",
      "13              9.530674       70           25             1\n",
      "14              0.388305       67           24             0\n",
      "15             64.349826       81           26             1\n",
      "16              0.000000        4           24             0\n",
      "17             21.025595       18           24             1\n",
      "18              9.847857       20           23             1\n",
      "19             39.413030       46           25             1\n",
      "20             15.098885       51           24             1\n",
      "21             41.406021       68           23             1\n"
     ]
    }
   ],
   "source": [
    "print (X)"
   ]
  },
  {
   "cell_type": "code",
   "execution_count": 43,
   "id": "e0d0f671",
   "metadata": {},
   "outputs": [
    {
     "name": "stdout",
     "output_type": "stream",
     "text": [
      "0     0\n",
      "1     0\n",
      "2     0\n",
      "3     0\n",
      "4     0\n",
      "5     0\n",
      "6     0\n",
      "7     0\n",
      "8     1\n",
      "9     0\n",
      "10    0\n",
      "11    0\n",
      "12    0\n",
      "13    0\n",
      "14    0\n",
      "15    1\n",
      "16    0\n",
      "17    0\n",
      "18    0\n",
      "19    0\n",
      "20    0\n",
      "21    1\n",
      "Name: deslizamento, dtype: int64\n"
     ]
    }
   ],
   "source": [
    "print(Y)"
   ]
  },
  {
   "cell_type": "code",
   "execution_count": 44,
   "id": "0d2debb2",
   "metadata": {},
   "outputs": [],
   "source": [
    "scaler = StandardScaler() #criação de instância"
   ]
  },
  {
   "cell_type": "code",
   "execution_count": 46,
   "id": "8e90d724",
   "metadata": {},
   "outputs": [
    {
     "data": {
      "text/plain": [
       "StandardScaler()"
      ]
     },
     "execution_count": 46,
     "metadata": {},
     "output_type": "execute_result"
    }
   ],
   "source": [
    "scaler.fit(X) #fiting de X"
   ]
  },
  {
   "cell_type": "code",
   "execution_count": 47,
   "id": "b902af24",
   "metadata": {},
   "outputs": [],
   "source": [
    "standarized_data = scaler.transform(X) #transformar data"
   ]
  },
  {
   "cell_type": "code",
   "execution_count": 48,
   "id": "b356b92a",
   "metadata": {},
   "outputs": [],
   "source": [
    "X = standarized_data #alimentando os dados padronizados para a variável X"
   ]
  },
  {
   "cell_type": "code",
   "execution_count": 49,
   "id": "60368320",
   "metadata": {},
   "outputs": [
    {
     "name": "stdout",
     "output_type": "stream",
     "text": [
      "[[-1.06331277 -1.44501093 -0.39735971 -1.63299316]\n",
      " [-0.61234517 -1.1611695  -0.39735971  0.61237244]\n",
      " [-0.61234517 -1.05472896 -0.39735971  0.61237244]\n",
      " [-1.06331277 -1.1611695  -0.39735971 -1.63299316]\n",
      " [-0.16137758 -0.55800645 -0.39735971  0.61237244]\n",
      " [ 0.74055761 -0.1322443  -0.39735971  0.61237244]\n",
      " [ 1.19152521  0.86120071 -0.39735971  0.61237244]\n",
      " [ 1.37191224  1.28696286 -0.39735971  0.61237244]\n",
      " [ 2.0934604   1.64176465 -0.39735971  0.61237244]\n",
      " [-1.06331277 -1.3385704   1.05962589 -1.63299316]\n",
      " [ 0.86518359  0.11611695  1.05962589  0.61237244]\n",
      " [-0.12066823  0.79024035  1.05962589  0.61237244]\n",
      " [-1.06331277  0.71928     1.05962589 -1.63299316]\n",
      " [-0.63351028  0.96764125  1.05962589  0.61237244]\n",
      " [-1.04580147  0.86120071 -0.39735971 -1.63299316]\n",
      " [ 1.83865586  1.35792322  2.51661148  0.61237244]\n",
      " [-1.06331277 -1.37405057 -0.39735971 -1.63299316]\n",
      " [-0.11512659 -0.87732807 -0.39735971  0.61237244]\n",
      " [-0.61920633 -0.80636771 -1.8543453   0.61237244]\n",
      " [ 0.71408716  0.11611695  1.05962589  0.61237244]\n",
      " [-0.382402    0.29351785 -0.39735971  0.61237244]\n",
      " [ 0.80396461  0.89668089 -1.8543453   0.61237244]]\n",
      "0     0\n",
      "1     0\n",
      "2     0\n",
      "3     0\n",
      "4     0\n",
      "5     0\n",
      "6     0\n",
      "7     0\n",
      "8     1\n",
      "9     0\n",
      "10    0\n",
      "11    0\n",
      "12    0\n",
      "13    0\n",
      "14    0\n",
      "15    1\n",
      "16    0\n",
      "17    0\n",
      "18    0\n",
      "19    0\n",
      "20    0\n",
      "21    1\n",
      "Name: deslizamento, dtype: int64\n"
     ]
    }
   ],
   "source": [
    "print(X)\n",
    "print(Y)"
   ]
  },
  {
   "cell_type": "code",
   "execution_count": 50,
   "id": "e700b109",
   "metadata": {},
   "outputs": [],
   "source": [
    "#dividindo o conjunto de dados na proporção 80/20 \n",
    "\n",
    "X_train, X_test, Y_train, Y_test = train_test_split(X,Y, test_size=0.2, stratify = Y, random_state=2)"
   ]
  },
  {
   "cell_type": "code",
   "execution_count": 51,
   "id": "52e7cda8",
   "metadata": {},
   "outputs": [
    {
     "name": "stdout",
     "output_type": "stream",
     "text": [
      "(22, 4) (5, 4) (17, 4)\n"
     ]
    }
   ],
   "source": [
    "print(X.shape, X_test.shape, X_train.shape)"
   ]
  },
  {
   "cell_type": "markdown",
   "id": "8a3d0d14",
   "metadata": {},
   "source": [
    "## 🦾 Criação do modelo"
   ]
  },
  {
   "cell_type": "code",
   "execution_count": 52,
   "id": "621fc74c",
   "metadata": {},
   "outputs": [],
   "source": [
    "classifier = svm.SVC(kernel='linear')"
   ]
  },
  {
   "cell_type": "code",
   "execution_count": 53,
   "id": "a8b7edba",
   "metadata": {},
   "outputs": [
    {
     "data": {
      "text/plain": [
       "SVC(kernel='linear')"
      ]
     },
     "execution_count": 53,
     "metadata": {},
     "output_type": "execute_result"
    }
   ],
   "source": [
    "# Treinar modelo usando o dataset de teste\n",
    "classifier.fit(X_train, Y_train)"
   ]
  },
  {
   "cell_type": "code",
   "execution_count": 58,
   "id": "59efdbf5",
   "metadata": {},
   "outputs": [],
   "source": [
    "# Acurácia nos dados de treinamento\n",
    "train_pred = classifier.predict(X_train)\n",
    "accuracy_train = accuracy_score(train_pred, Y_train)"
   ]
  },
  {
   "cell_type": "code",
   "execution_count": 59,
   "id": "90e9fde6",
   "metadata": {},
   "outputs": [
    {
     "name": "stdout",
     "output_type": "stream",
     "text": [
      "Pontuação de acurácia dos dados de treinamento = 0.9411764705882353\n"
     ]
    }
   ],
   "source": [
    "print(\"Pontuação de acurácia dos dados de treinamento = {}\".format(accuracy_train))"
   ]
  },
  {
   "cell_type": "code",
   "execution_count": 64,
   "id": "b64a0031",
   "metadata": {},
   "outputs": [],
   "source": [
    "#Acurácia no dados de teste\n",
    "test_pred = classifier.predict(X_test)\n",
    "accuracy_test = accuracy_score(test_pred, Y_test)"
   ]
  },
  {
   "cell_type": "code",
   "execution_count": 65,
   "id": "1ab3272d",
   "metadata": {},
   "outputs": [
    {
     "name": "stdout",
     "output_type": "stream",
     "text": [
      "Pontuação de acurácia dos dados de teste = 0.8\n"
     ]
    }
   ],
   "source": [
    "print(\"Pontuação de acurácia dos dados de teste = {}\".format(accuracy_test))"
   ]
  },
  {
   "cell_type": "markdown",
   "id": "37a221c8",
   "metadata": {},
   "source": [
    "## 🔮 Sistema de predição"
   ]
  },
  {
   "cell_type": "code",
   "execution_count": 66,
   "id": "0aabc4a7",
   "metadata": {},
   "outputs": [
    {
     "name": "stdout",
     "output_type": "stream",
     "text": [
      "[[ 7.95603914  1.32244304 -0.39735971  0.61237244]]\n",
      "Vai ocorrer deslizamento\n"
     ]
    },
    {
     "name": "stderr",
     "output_type": "stream",
     "text": [
      "C:\\ProgramData\\Anaconda3\\lib\\site-packages\\sklearn\\base.py:450: UserWarning: X does not have valid feature names, but StandardScaler was fitted with feature names\n",
      "  warnings.warn(\n"
     ]
    }
   ],
   "source": [
    "input_data = (200, 80, 24, 1)\n",
    "\n",
    "# Transformar dados de entrada em um array\n",
    "data_changed = np.asarray(input_data)\n",
    "\n",
    "# Remodelar para predição de apenas uma instância\n",
    "data_reshaped = data_changed.reshape(1,-1)\n",
    "\n",
    "# Padronizar dados de entrada\n",
    "std_data = scaler.transform(data_reshaped)\n",
    "print(std_data)\n",
    "\n",
    "# Predição com os valores de entrada\n",
    "prediction = classifier.predict(std_data)\n",
    "if prediction == 1:\n",
    "    print (\"Vai ocorrer deslizamento\")\n",
    "else:\n",
    "    print(\"Não vai ocorrer deslizamento\")"
   ]
  },
  {
   "cell_type": "code",
   "execution_count": 68,
   "id": "c5187e4b",
   "metadata": {},
   "outputs": [
    {
     "name": "stdout",
     "output_type": "stream",
     "text": [
      "[[-0.61234517 -0.9837686  -0.39735971  0.61237244]]\n",
      "Não vai ocorrer deslizamento\n"
     ]
    },
    {
     "name": "stderr",
     "output_type": "stream",
     "text": [
      "C:\\ProgramData\\Anaconda3\\lib\\site-packages\\sklearn\\base.py:450: UserWarning: X does not have valid feature names, but StandardScaler was fitted with feature names\n",
      "  warnings.warn(\n"
     ]
    }
   ],
   "source": [
    "input_data = (10, 15, 24, 1)\n",
    "\n",
    "# Transformar dados de entrada em um array\n",
    "data_changed = np.asarray(input_data)\n",
    "\n",
    "# Remodelar para predição de apenas uma instância\n",
    "data_reshaped = data_changed.reshape(1,-1)\n",
    "\n",
    "# Padronizar dados de entrada\n",
    "std_data = scaler.transform(data_reshaped)\n",
    "print(std_data)\n",
    "\n",
    "# Predição com os valores de entrada\n",
    "prediction = classifier.predict(std_data)\n",
    "if prediction == 1:\n",
    "    print (\"Vai ocorrer deslizamento\")\n",
    "else:\n",
    "    print(\"Não vai ocorrer deslizamento\")"
   ]
  },
  {
   "cell_type": "code",
   "execution_count": 69,
   "id": "abdcb554",
   "metadata": {},
   "outputs": [
    {
     "name": "stdout",
     "output_type": "stream",
     "text": [
      "[[-1.06331277  1.53532412  1.05962589 -1.63299316]]\n",
      "Não vai ocorrer deslizamento\n"
     ]
    },
    {
     "name": "stderr",
     "output_type": "stream",
     "text": [
      "C:\\ProgramData\\Anaconda3\\lib\\site-packages\\sklearn\\base.py:450: UserWarning: X does not have valid feature names, but StandardScaler was fitted with feature names\n",
      "  warnings.warn(\n"
     ]
    }
   ],
   "source": [
    "input_data = (0, 86, 25, 0)\n",
    "\n",
    "# Transformar dados de entrada em um array\n",
    "data_changed = np.asarray(input_data)\n",
    "\n",
    "# Remodelar para predição de apenas uma instância\n",
    "data_reshaped = data_changed.reshape(1,-1)\n",
    "\n",
    "# Padronizar dados de entrada\n",
    "std_data = scaler.transform(data_reshaped)\n",
    "print(std_data)\n",
    "\n",
    "# Predição com os valores de entrada\n",
    "prediction = classifier.predict(std_data)\n",
    "if prediction == 1:\n",
    "    print (\"Vai ocorrer deslizamento\")\n",
    "else:\n",
    "    print(\"Não vai ocorrer deslizamento\")"
   ]
  },
  {
   "cell_type": "markdown",
   "id": "c47018a0",
   "metadata": {},
   "source": [
    "## 📊 Outras métricas do modelo"
   ]
  },
  {
   "cell_type": "code",
   "execution_count": 79,
   "id": "13ebbb96",
   "metadata": {},
   "outputs": [],
   "source": [
    "# Importar bibliotecas\n",
    "from sklearn.metrics import accuracy_score, confusion_matrix, roc_curve, roc_auc_score\n",
    "import matplotlib.pyplot as plt"
   ]
  },
  {
   "cell_type": "code",
   "execution_count": 101,
   "id": "89a296f0",
   "metadata": {},
   "outputs": [
    {
     "name": "stderr",
     "output_type": "stream",
     "text": [
      "C:\\ProgramData\\Anaconda3\\lib\\site-packages\\sklearn\\utils\\deprecation.py:87: FutureWarning: Function plot_confusion_matrix is deprecated; Function `plot_confusion_matrix` is deprecated in 1.0 and will be removed in 1.2. Use one of the class methods: ConfusionMatrixDisplay.from_predictions or ConfusionMatrixDisplay.from_estimator.\n",
      "  warnings.warn(msg, category=FutureWarning)\n"
     ]
    },
    {
     "data": {
      "image/png": "[encoded data removed]",
      "text/plain": [
       "<Figure size 640x480 with 2 Axes>"
      ]
     },
     "metadata": {},
     "output_type": "display_data"
    }
   ],
   "source": [
    "#Matriz de confusão\n",
    "\n",
    "test_pred = classifier.predict(X_test)\n",
    "accuracy_test = accuracy_score(test_pred, Y_test)\n",
    "\n",
    "cm = confusion_matrix(Y_test, test_pred)\n",
    "plot_confusion_matrix(classifier, X_test, Y_test, cmap=plt.cm.Reds)\n",
    "plt.show()"
   ]
  },
  {
   "cell_type": "code",
   "execution_count": 103,
   "id": "a756e6fd",
   "metadata": {},
   "outputs": [
    {
     "name": "stderr",
     "output_type": "stream",
     "text": [
      "C:\\ProgramData\\Anaconda3\\lib\\site-packages\\sklearn\\model_selection\\_split.py:676: UserWarning: The least populated class in y has only 2 members, which is less than n_splits=5.\n",
      "  warnings.warn(\n"
     ]
    },
    {
     "data": {
      "image/png": "[encoded data removed]",
      "text/plain": [
       "<Figure size 640x480 with 1 Axes>"
      ]
     },
     "metadata": {},
     "output_type": "display_data"
    }
   ],
   "source": [
    "# Curva de aprendizado \n",
    "\n",
    "'''\n",
    "O gráfico mostra como a precisão do modelo melhora à medida que o número de exemplos de treinamento \n",
    "aumenta e também mostra se o modelo está sofrendo  overfitting ou underfitting.\n",
    "'''\n",
    "\n",
    "train_sizes, train_scores, test_scores = learning_curve(\n",
    "    svm.SVC(kernel='linear'),\n",
    "    X_train, Y_train,\n",
    "    train_sizes=np.linspace(0.1, 1.0, 10),\n",
    "    cv=5, scoring='accuracy', n_jobs=-1)\n",
    "\n",
    "train_scores_mean = np.mean(train_scores, axis=1)\n",
    "train_scores_std = np.std(train_scores, axis=1)\n",
    "test_scores_mean = np.mean(test_scores, axis=1)\n",
    "test_scores_std = np.std(test_scores, axis=1)\n",
    "\n",
    "plt.figure()\n",
    "plt.title('Curva de Aprendizado')\n",
    "plt.xlabel('Exemplos de treinamento')\n",
    "plt.ylabel('Score')\n",
    "\n",
    "plt.plot(train_sizes, train_scores_mean, 'o-', color='red', label='Score de Treinamento')\n",
    "plt.fill_between(train_sizes, train_scores_mean - train_scores_std, train_scores_mean + train_scores_std, alpha=0.1)\n",
    "\n",
    "plt.plot(train_sizes, test_scores_mean, 'o-', color='orange', label='Cross-Validation Score')\n",
    "plt.fill_between(train_sizes, test_scores_mean - test_scores_std, test_scores_mean + test_scores_std, alpha=0.1)\n",
    "\n",
    "plt.legend(loc='best')\n",
    "plt.show()"
   ]
  },
  {
   "cell_type": "code",
   "execution_count": null,
   "id": "ad54435e",
   "metadata": {},
   "outputs": [],
   "source": []
  }
 ],
 "metadata": {
  "kernelspec": {
   "display_name": "Python 3 (ipykernel)",
   "language": "python",
   "name": "python3"
  },
  "language_info": {
   "codemirror_mode": {
    "name": "ipython",
    "version": 3
   },
   "file_extension": ".py",
   "mimetype": "text/x-python",
   "name": "python",
   "nbconvert_exporter": "python",
   "pygments_lexer": "ipython3",
   "version": "3.9.13"
  }
 },
 "nbformat": 4,
 "nbformat_minor": 5
}
